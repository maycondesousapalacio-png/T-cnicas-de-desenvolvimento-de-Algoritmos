{
  "nbformat": 4,
  "nbformat_minor": 0,
  "metadata": {
    "colab": {
      "provenance": [],
      "authorship_tag": "ABX9TyPhoTn0zNXor1yqWi4zHKMI",
      "include_colab_link": true
    },
    "kernelspec": {
      "name": "python3",
      "display_name": "Python 3"
    },
    "language_info": {
      "name": "python"
    }
  },
  "cells": [
    {
      "cell_type": "markdown",
      "metadata": {
        "id": "view-in-github",
        "colab_type": "text"
      },
      "source": [
        "<a href=\"https://colab.research.google.com/github/maycondesousapalacio-png/T-cnicas-de-desenvolvimento-de-Algoritmos/blob/main/Aula1_TDAlg_Maycon.ipynb\" target=\"_parent\"><img src=\"https://colab.research.google.com/assets/colab-badge.svg\" alt=\"Open In Colab\"/></a>"
      ]
    },
    {
      "cell_type": "markdown",
      "source": [
        "Nome: Maycon de Sousa Palácio\n",
        "\n",
        "Turma: Ciências da Computação N1\n",
        "\n",
        "![python.webp](data:image/webp;base64,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)"
      ],
      "metadata": {
        "id": "uGCy6nPgQK5-"
      }
    },
    {
      "cell_type": "code",
      "source": [
        "#1. Escreva um programa que apresente na tela a frase: \"Meu primeiro programa!!!\"\n",
        "\n",
        "print(\"Meu primeiro programa\")"
      ],
      "metadata": {
        "colab": {
          "base_uri": "https://localhost:8080/"
        },
        "id": "3TzFXRwzRmDY",
        "outputId": "468a8ce4-4692-4444-e996-6cd3fabc3c37"
      },
      "execution_count": null,
      "outputs": [
        {
          "output_type": "stream",
          "name": "stdout",
          "text": [
            "Meu primeiro programa\n"
          ]
        }
      ]
    },
    {
      "cell_type": "code",
      "source": [
        "'''2. Escreva um programa que solicite ao usuário um número inteiro e ao final apresente na tela\n",
        "o número informado pelo usuário do programa'''\n",
        "\n",
        "print(\"Informe um número: \")\n",
        "num = int(input())\n",
        "print(\"O número informado foi: \" + str(num))"
      ],
      "metadata": {
        "colab": {
          "base_uri": "https://localhost:8080/"
        },
        "id": "LWQ7wRica96z",
        "outputId": "2c7c47b0-d2fb-441a-c4d8-c8b61349636f"
      },
      "execution_count": null,
      "outputs": [
        {
          "output_type": "stream",
          "name": "stdout",
          "text": [
            "Informe um número: \n",
            "4\n",
            "O número informado foi: 4\n"
          ]
        }
      ]
    },
    {
      "cell_type": "code",
      "source": [
        "'''3. Escreva um programa que solicite ao usuário um número inteiro e ao final apresente na tela\n",
        "o número informado da seguinte forma: \"Foi informado o valor: X\"'''\n",
        "print(\"Informe um número: \")\n",
        "num=int(input())\n",
        "print(\"Foi informado o valor: \",num)"
      ],
      "metadata": {
        "colab": {
          "base_uri": "https://localhost:8080/"
        },
        "id": "wjSPwfvUcuNl",
        "outputId": "76893df4-cb6b-4262-a619-165635888741"
      },
      "execution_count": null,
      "outputs": [
        {
          "output_type": "stream",
          "name": "stdout",
          "text": [
            "Informe um número: 2\n",
            "Foi informado o valor:  2\n"
          ]
        }
      ]
    },
    {
      "cell_type": "code",
      "source": [
        "'''4. Escreva um programa que solicite ao usuário dois números inteiros e ao final apresente na\n",
        "tela os dois números informados da seguinte forma: \"Voce informou os numeros X e Y\"'''\n",
        "print(\"Informe um número: \")\n",
        "num1=input()\n",
        "print(\"Informe outro número: \")\n",
        "num2=input()\n",
        "print(\"Você informou os números \",num1,\" e \",num2)"
      ],
      "metadata": {
        "colab": {
          "base_uri": "https://localhost:8080/"
        },
        "id": "MRgUWw8C1UHd",
        "outputId": "bf12e45a-714b-433b-9b7a-64995e606b5b"
      },
      "execution_count": null,
      "outputs": [
        {
          "output_type": "stream",
          "name": "stdout",
          "text": [
            "Informe um número: \n",
            "2\n",
            "Informe outro número: \n",
            "500\n",
            "Você informou os números  2  e  500\n"
          ]
        }
      ]
    },
    {
      "cell_type": "code",
      "source": [
        "'''5. Escreva um programa que solicite ao usuário um número real e ao final apresente na tela o\n",
        "número informado formatado com duas casas decimais da seguinte forma: \"Voce informou\n",
        "o numero X.YY'''\n",
        "print(\"Informe um número real: \")\n",
        "num = float(input())\n",
        "print(f\"Você informou o número: {num:.2f}\")"
      ],
      "metadata": {
        "colab": {
          "base_uri": "https://localhost:8080/"
        },
        "id": "qIsYSxXl15n4",
        "outputId": "fa789447-3ca3-4923-ba6f-0daa0c2626c5"
      },
      "execution_count": null,
      "outputs": [
        {
          "output_type": "stream",
          "name": "stdout",
          "text": [
            "Informe um número real: \n",
            "3.45\n",
            "Você informou o número: 3.45\n"
          ]
        }
      ]
    },
    {
      "cell_type": "code",
      "source": [
        "'''6. Escreva um programa que solicite ao usuário a temperatura em graus Celsius e ao final\n",
        "apresente a temperatura correspondente em graus Farenheit. F = Celsius * 1.8 + 32'''\n",
        "print(\"Informe a temperatura em graus Celsius:\")\n",
        "celsius=float(input())\n",
        "farenheit=celsius*1.8+32\n",
        "print(f\"A temperatura em graus Farenheit é: {farenheit:.2f}\")"
      ],
      "metadata": {
        "colab": {
          "base_uri": "https://localhost:8080/"
        },
        "id": "4oAMPF0A27iA",
        "outputId": "b33762ad-655f-435e-92eb-1a5e4824b80e"
      },
      "execution_count": null,
      "outputs": [
        {
          "output_type": "stream",
          "name": "stdout",
          "text": [
            "Informe a temperatura em graus Celsius:\n",
            "32\n",
            "A temperatura em graus Farenheit é: 89.60\n"
          ]
        }
      ]
    },
    {
      "cell_type": "code",
      "source": [
        "'''7. Escreva um programa que solicite ao usuário um número inteiro e um número real e ao final\n",
        "apresente na tela os dois números informados formatando com duas casas decimais\n",
        "somente o número real da seguinte forma: \"Voce informou os numeros N e X.YY\"'''\n",
        "print(\"Informe um número inteiro: \")\n",
        "numInt=int(input())\n",
        "print(\"Informe um número real: \")\n",
        "numReal=float(input())\n",
        "print(f\"Você informou os números {numInt} e {numReal:.2f}\")\n"
      ],
      "metadata": {
        "colab": {
          "base_uri": "https://localhost:8080/"
        },
        "id": "QKB3P5ma3ru4",
        "outputId": "76642ccc-4737-4fce-f8fa-b0ca7a8730ae"
      },
      "execution_count": null,
      "outputs": [
        {
          "output_type": "stream",
          "name": "stdout",
          "text": [
            "Informe um número inteiro: \n",
            "32\n",
            "Informe um número real: \n",
            "3.789\n",
            "Você informou os números 32 e 3.79\n"
          ]
        }
      ]
    },
    {
      "cell_type": "code",
      "source": [
        "'''8. Escreva um programa que solicite ao usuário a primeira letra de seu nome e ao final\n",
        "apresente na tela a letra informada pelo usuário da seguinte forma: \"Voce digitou w\"'''\n",
        "print(\"Informe a primeira letra do seu nome: \")\n",
        "letra=str(input())\n",
        "print(f\"Você digitou: {letra}\")"
      ],
      "metadata": {
        "colab": {
          "base_uri": "https://localhost:8080/"
        },
        "id": "UfYAbtRB4gJN",
        "outputId": "8f581cf2-5b53-4773-8372-67f1d9f382ea"
      },
      "execution_count": null,
      "outputs": [
        {
          "output_type": "stream",
          "name": "stdout",
          "text": [
            "Informe a primeira letra do seu nome: \n",
            "m\n",
            "Você digitou: m\n"
          ]
        }
      ]
    },
    {
      "cell_type": "code",
      "source": [
        "'''9. Escreva um programa que solicite ao usuário o nome de sua cor preferida e ao final\n",
        "apresente na tela a cor informada pelo usuário da seguinte forma: \"Voce gosta da cor AAA\"'''\n",
        "print(\"Informe a sua cor preferida: \")\n",
        "cor=str(input())\n",
        "print(f\"Sua cor preferida é: {cor}\")"
      ],
      "metadata": {
        "colab": {
          "base_uri": "https://localhost:8080/"
        },
        "id": "ym4dwxj95Dbg",
        "outputId": "06db63be-0053-4ce0-bf3d-0cec3a0973a2"
      },
      "execution_count": null,
      "outputs": [
        {
          "output_type": "stream",
          "name": "stdout",
          "text": [
            "Informe a sua cor preferida: \n",
            "laranja\n",
            "Sua cor preferida é: laranja\n"
          ]
        }
      ]
    },
    {
      "cell_type": "code",
      "source": [
        "'''10. Escreva um programa que solicite ao usuário o nome de uma verdura e uma fruta de sua\n",
        "preferencia e ao final apresente na tela as informações digitadas pelo usuário da seguinte\n",
        "forma: \"Voce gosta de AAAAAAA e BBBBBBB\"'''\n",
        "print(\"Informe o nome de uma verdura: \")\n",
        "verdura=str(input())\n",
        "print(\"Informe o nome de uma fruta: \")\n",
        "fruta=str(input())\n",
        "print(f\"Você gosta de {verdura} e {fruta}\")\n"
      ],
      "metadata": {
        "colab": {
          "base_uri": "https://localhost:8080/"
        },
        "id": "JNPUa5Af5bhA",
        "outputId": "47fa811c-10df-4608-c6bd-ff80dee383e2"
      },
      "execution_count": null,
      "outputs": [
        {
          "output_type": "stream",
          "name": "stdout",
          "text": [
            "Informe o nome de uma verdura: \n",
            "alface\n",
            "Informe o nome de uma fruta: \n",
            "goiaba\n",
            "Você gosta de alface e goiaba\n"
          ]
        }
      ]
    },
    {
      "cell_type": "code",
      "source": [
        "'''11. Elabore um algoritmo que solicite ao usuário um número real e ao final imprima na tela o\n",
        "numero informado e na linha de baixo o dobro deste número da seguinte forma:\n",
        "Numero -> X\n",
        "Dobro deste numero -> Y'''\n",
        "print(\"informe um número real: \")\n",
        "num=float(input())\n",
        "dobro=num*2\n",
        "print(f\"Número -> {num:.2f}\")\n",
        "print(f\"Dobro deste número -> {dobro:.2f}\")\n"
      ],
      "metadata": {
        "colab": {
          "base_uri": "https://localhost:8080/"
        },
        "id": "v0mS6oAi6BMx",
        "outputId": "241e4b5e-25c9-41a0-f531-39861f44d284"
      },
      "execution_count": null,
      "outputs": [
        {
          "output_type": "stream",
          "name": "stdout",
          "text": [
            "informe um número real: \n",
            "5\n",
            "Número -> 5.00\n",
            "Dobro deste número -> 10.00\n"
          ]
        }
      ]
    },
    {
      "cell_type": "code",
      "source": [
        "'''12. Reescrever o programa anterior apresentando o quadrado e o cubo do número informado'''\n",
        "print(\"informe um número real: \")\n",
        "num=float(input())\n",
        "dobro=num*2\n",
        "quadrado=num**2\n",
        "cubo=num**3\n",
        "print(f\"Número -> {num:.2f}\")\n",
        "print(f\"Dobro deste número -> {dobro:.2f}\")\n",
        "print(f\"Quadrado deste número -> {quadrado:.2f}\")\n",
        "print(f\"Cubo deste número -> {cubo:.2f}\")"
      ],
      "metadata": {
        "colab": {
          "base_uri": "https://localhost:8080/"
        },
        "id": "cJQZ0RsR6xY2",
        "outputId": "76746666-4f89-4a1f-d102-127acd8c92e1"
      },
      "execution_count": null,
      "outputs": [
        {
          "output_type": "stream",
          "name": "stdout",
          "text": [
            "informe um número real: \n",
            "5\n",
            "Número -> 5.00\n",
            "Dobro deste número -> 10.00\n",
            "Quadrado deste número -> 25.00\n",
            "Cubo deste número -> 125.00\n"
          ]
        }
      ]
    },
    {
      "cell_type": "code",
      "source": [
        "'''13. Escreva um programa que solicite ao usuário dois números inteiros e ao final apresente\n",
        "na tela a soma dos dois números informados da seguinte forma: \"O numeros N e X\n",
        "somados correspondem a Y\"'''\n",
        "print(\"Informe um número inteiro: \")\n",
        "num1=int(input())\n",
        "print(\"Informe outro número inteiro: \")\n",
        "num2=int(input())\n",
        "soma=num1+num2\n",
        "print(f\"Os números {num1} e {num2} somados correspondem a {soma}\")\n"
      ],
      "metadata": {
        "colab": {
          "base_uri": "https://localhost:8080/"
        },
        "id": "h7mGlEhk7TSA",
        "outputId": "14b5e69e-a77e-436e-9f6a-134f3f2af124"
      },
      "execution_count": null,
      "outputs": [
        {
          "output_type": "stream",
          "name": "stdout",
          "text": [
            "Informe um número inteiro: \n",
            "100\n",
            "Informe outro número inteiro: \n",
            "150\n",
            "Os números 100 e 150 somados correspondem a 250\n"
          ]
        }
      ]
    },
    {
      "cell_type": "code",
      "source": [
        "'''14. Escreva um programa que solicite ao usuário dois números reais e ao final apresente na\n",
        "tela o produto dos dois números informados da seguinte forma: \"O produto dos numeros N\n",
        "e X corresponde a Y\"'''\n",
        "print(\"Informe um número real: \")\n",
        "num1=float(input())\n",
        "print(\"Informe outro número real: \")\n",
        "num2=float(input())\n",
        "produto=num1*num2\n",
        "print(f\"O produto dos números {num1} e {num2} corresponde a {produto}\")"
      ],
      "metadata": {
        "colab": {
          "base_uri": "https://localhost:8080/"
        },
        "id": "Ty55ibGF71hx",
        "outputId": "d4fd896c-9667-4c6c-da8b-5f13c0e0e887"
      },
      "execution_count": null,
      "outputs": [
        {
          "output_type": "stream",
          "name": "stdout",
          "text": [
            "Informe um número real: \n",
            "4.5\n",
            "Informe outro número real: \n",
            "10\n",
            "O produto dos números 4.5 e 10.0 corresponde a 45.0\n"
          ]
        }
      ]
    },
    {
      "cell_type": "code",
      "source": [
        "'''15. Refazer o programa 14 realizando as quatro operações aritméticas básicas'''\n",
        "print(\"Informe um número real: \")\n",
        "num1=float(input())\n",
        "print(\"Informe outro número real: \")\n",
        "num2=float(input())\n",
        "soma=num1+num2\n",
        "sub=num1-num2\n",
        "multi=num1*num2\n",
        "div=num1/num2\n",
        "print(f\"A soma dos números {num1} e {num2} corresponde a {soma}\")\n",
        "print(f\"A subtração dos números {num1} e {num2} corresponde a {sub}\")\n",
        "print(f\"A multiplicação dos números {num1} e {num2} corresponde a {multi}\")\n",
        "print(f\"A divisão dos números {num1} e {num2} corresponde a {div}\")"
      ],
      "metadata": {
        "colab": {
          "base_uri": "https://localhost:8080/"
        },
        "id": "6zJJEYpW8Z37",
        "outputId": "bf774897-4264-40a9-9d82-5db15139c1fb"
      },
      "execution_count": null,
      "outputs": [
        {
          "output_type": "stream",
          "name": "stdout",
          "text": [
            "Informe um número real: \n",
            "10\n",
            "Informe outro número real: \n",
            "2\n",
            "A soma dos números 10.0 e 2.0 corresponde a 12.0\n",
            "A subtração dos números 10.0 e 2.0 corresponde a 8.0\n",
            "A multiplicação dos números 10.0 e 2.0 corresponde a 20.0\n",
            "A divisão dos números 10.0 e 2.0 corresponde a 5.0\n"
          ]
        }
      ]
    },
    {
      "cell_type": "code",
      "source": [
        "'''16. Escreva um programa que solicite o valor fixo do salário de um vendedor, o total vendido\n",
        "no mês e o percentual de comissão do vendedor. Ao final apresentar o salário bruto.'''\n",
        "print(\"Informe o salário fixo: \")\n",
        "salarioFixo=float(input())\n",
        "print(\"Informe o total vendido: \")\n",
        "totalVendido=float(input())\n",
        "print(\"Informe o percentual de comissão: \")\n",
        "percent=float(input())\n",
        "salarioBruto=salarioFixo+(totalVendido*percent/100)\n",
        "print(f\"O salário bruto é: {salarioBruto:.2f}\")"
      ],
      "metadata": {
        "colab": {
          "base_uri": "https://localhost:8080/"
        },
        "id": "kRRRA3su9biX",
        "outputId": "1b1bf305-711f-4569-fa43-f17158c1328e"
      },
      "execution_count": null,
      "outputs": [
        {
          "output_type": "stream",
          "name": "stdout",
          "text": [
            "Informe o salário fixo: \n",
            "1500\n",
            "Informe o total vendido: \n",
            "2000\n",
            "Informe o percentual de comissão: \n",
            "30\n",
            "O salário bruto é: 2100.00\n"
          ]
        }
      ]
    }
  ]
}