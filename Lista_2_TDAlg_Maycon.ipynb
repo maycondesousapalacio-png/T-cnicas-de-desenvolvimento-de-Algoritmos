{
  "nbformat": 4,
  "nbformat_minor": 0,
  "metadata": {
    "colab": {
      "provenance": [],
      "authorship_tag": "ABX9TyOTC41BvyY4uuG2vPmhP8+A",
      "include_colab_link": true
    },
    "kernelspec": {
      "name": "python3",
      "display_name": "Python 3"
    },
    "language_info": {
      "name": "python"
    }
  },
  "cells": [
    {
      "cell_type": "markdown",
      "metadata": {
        "id": "view-in-github",
        "colab_type": "text"
      },
      "source": [
        "<a href=\"https://colab.research.google.com/github/maycondesousapalacio-png/T-cnicas-de-desenvolvimento-de-Algoritmos/blob/main/Lista_2_TDAlg_Maycon.ipynb\" target=\"_parent\"><img src=\"https://colab.research.google.com/assets/colab-badge.svg\" alt=\"Open In Colab\"/></a>"
      ]
    },
    {
      "cell_type": "markdown",
      "source": [
        "Lista de exercícios 2\n",
        "\n",
        "Nome: Maycon de Sousa Palácio\n",
        "\n",
        "Turma: Ciências da Computação N1\n",
        "\n",
        "![python.webp](data:image/webp;base64,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)"
      ],
      "metadata": {
        "id": "N3OctLT8BSJk"
      }
    },
    {
      "cell_type": "code",
      "execution_count": null,
      "metadata": {
        "colab": {
          "base_uri": "https://localhost:8080/"
        },
        "id": "AZjC_V_bNc46",
        "outputId": "ae993590-402d-49f5-8245-ca6cf2fdf2c9"
      },
      "outputs": [
        {
          "output_type": "stream",
          "name": "stdout",
          "text": [
            "Informe um número real: \n",
            "12\n",
            "O número informado é maior que 10\n"
          ]
        }
      ],
      "source": [
        "'''1. Elabore um programa que solicite ao usuário um número real e ao final imprima na tela se o\n",
        "número informado é maior que 10 (dez)'''\n",
        "print(\"Informe um número real: \")\n",
        "num=float(input())\n",
        "\n",
        "if num>10:\n",
        "  print(\"O número informado é maior que 10\")"
      ]
    },
    {
      "cell_type": "code",
      "source": [
        "'''2. Escreva um programa que solicite ao usuário um número real e ao final imprima na tela se\n",
        "o número informado é maior ou igual a dez ou menor que 10 (dez)'''\n",
        "print(\"Informe um número real: \")\n",
        "num=float(input())\n",
        "if num>=10:\n",
        "  print(\"O número informado é maior ou igual a 10\")\n",
        "elif num<10:\n",
        "  print(\"O número informado não é maior que 10\")"
      ],
      "metadata": {
        "colab": {
          "base_uri": "https://localhost:8080/"
        },
        "id": "Sf4PPuV5OAtL",
        "outputId": "8505b345-16ed-4b2e-a8b9-579d1935ef2a"
      },
      "execution_count": null,
      "outputs": [
        {
          "output_type": "stream",
          "name": "stdout",
          "text": [
            "Informe um número real: \n",
            "10\n",
            "O número informado é maior ou igual a 10\n"
          ]
        }
      ]
    },
    {
      "cell_type": "code",
      "source": [
        "'''3. Elabore um algoritmo que solicite ao usuário um número real e ao final imprima na tela se o\n",
        "número informado é maior que dez, se é menor que dez, ou se é igual a dez'''\n",
        "num=float(input(\"Informe um número real: \"))\n",
        "if num>10:\n",
        "  print(\"O número informado é maior que 10\")\n",
        "elif num==10:\n",
        "  print(\"O número informado é igual que 10\")\n",
        "elif num<10:\n",
        "  print(\"O número informado é menor que 10\")"
      ],
      "metadata": {
        "colab": {
          "base_uri": "https://localhost:8080/"
        },
        "id": "WJVgNLZHPmPL",
        "outputId": "7b4acfe9-96b7-4b39-e0fc-fdd9d1e23d24"
      },
      "execution_count": null,
      "outputs": [
        {
          "output_type": "stream",
          "name": "stdout",
          "text": [
            "Informe um número real: 3\n",
            "O número informado é menor que 10\n"
          ]
        }
      ]
    },
    {
      "cell_type": "code",
      "source": [
        "'''4. Elabore um algoritmo que solicite ao usuário um número real e ao final imprima na tela se o\n",
        "número informado é positivo, negativo ou nulo (zero)'''\n",
        "num=float(input(\"Informe um número real: \"))\n",
        "if num>0:\n",
        "  print(\"O número informado é POSITIVO\")\n",
        "elif num==0:\n",
        "  print(\"O número informado é NULO\")\n",
        "elif num<0:\n",
        "  print(\"O número informado é NEGATIVO\")"
      ],
      "metadata": {
        "colab": {
          "base_uri": "https://localhost:8080/"
        },
        "id": "A5fQEyx7QFZ_",
        "outputId": "7c965768-6599-4faf-e7b9-15cb988510b6"
      },
      "execution_count": null,
      "outputs": [
        {
          "output_type": "stream",
          "name": "stdout",
          "text": [
            "Informe um número real: -3\n",
            "O número informado é NEGATIVO\n"
          ]
        }
      ]
    },
    {
      "cell_type": "code",
      "source": [
        "'''5. Elabore um algoritmo que leia um número inteiro e imprima uma das mensagens: é múltiplo\n",
        "de 3, ou, não é múltiplo de 3'''\n",
        "num=float(input(\"Informe um número: \"))\n",
        "if num%3==0:\n",
        "  print(\"O número informado é múltiplo de 3\")\n",
        "else:\n",
        "  print(\"O número informado não é múltiplo de 3\")\n",
        "\n"
      ],
      "metadata": {
        "colab": {
          "base_uri": "https://localhost:8080/"
        },
        "id": "KICUFPlKQa01",
        "outputId": "69c7c4ae-316e-4eff-f8a4-fb6cf4d569fa"
      },
      "execution_count": null,
      "outputs": [
        {
          "output_type": "stream",
          "name": "stdout",
          "text": [
            "Informe um número: 12\n",
            "O número informado é múltiplo de 3\n"
          ]
        }
      ]
    },
    {
      "cell_type": "code",
      "source": [
        "'''6. Refazer o exercício anterior, solicitando antes o múltiplo a ser testado'''\n",
        "num=float(input(\"Informe um número: \"))\n",
        "multi=int(input(\"Informe um `múltiplo a ser testado: \"))\n",
        "if num%multi==0:\n",
        "  print(f\"O número informado é múltiplo de {multi}\")\n",
        "else:\n",
        "  print(f\"O número informado não é múltiplo de {multi}\")"
      ],
      "metadata": {
        "colab": {
          "base_uri": "https://localhost:8080/"
        },
        "id": "8NnsO210Q9NH",
        "outputId": "b36d0507-7a37-4f00-c784-eb10836f84b2"
      },
      "execution_count": null,
      "outputs": [
        {
          "output_type": "stream",
          "name": "stdout",
          "text": [
            "Informe um número: 15\n",
            "Informe um `múltiplo a ser testado: 5\n",
            "O número informado é múltiplo de 5\n"
          ]
        }
      ]
    },
    {
      "cell_type": "code",
      "source": [
        "'''7. Desenvolva um algoritmo que classifique um número inteiro fornecido pelo usuário como\n",
        "par ou ímpar'''\n",
        "num=float(input(\"Informe um número: \"))\n",
        "if num%2==0:\n",
        "  print(\"O número informado é PAR\")\n",
        "else:\n",
        "  print(\"O número inforamdo é ÍMPAR\")"
      ],
      "metadata": {
        "colab": {
          "base_uri": "https://localhost:8080/"
        },
        "id": "-CMZ0iBTReDO",
        "outputId": "25bad453-3b6d-4a5d-f21d-bb585aa81ce9"
      },
      "execution_count": null,
      "outputs": [
        {
          "output_type": "stream",
          "name": "stdout",
          "text": [
            "Informe um número: 3\n",
            "O número inforamdo é ÍMPAR\n"
          ]
        }
      ]
    },
    {
      "cell_type": "code",
      "source": [
        "'''8. Elabore um algoritmo que leia um número, e se ele for maior do que 20, imprimir a metade\n",
        "desse número, caso contrário, imprimir o dobro do número'''\n",
        "num=float(input(\"Informe um número: \"))\n",
        "if num>20:\n",
        "  print(f\"A metade do número informado é: {num/2}\")\n",
        "else:\n",
        "  print(f\"O dobro do número informado é: {num*2}\")"
      ],
      "metadata": {
        "colab": {
          "base_uri": "https://localhost:8080/"
        },
        "id": "JLdWxMgzR5es",
        "outputId": "1d93acd5-334f-46e7-fcb9-d56ee1b739f2"
      },
      "execution_count": null,
      "outputs": [
        {
          "output_type": "stream",
          "name": "stdout",
          "text": [
            "Informe um número: 5\n",
            "O dobro do número informado é: 10.0\n"
          ]
        }
      ]
    },
    {
      "cell_type": "code",
      "source": [
        "'''9. Elabore um algoritmo que leia dois números inteiros e realize a adição; caso o resultado\n",
        "seja maior que 10, imprima o quadrado do resultado, caso contrário, imprima a metade dele'''\n",
        "num1=int(input(\"Informe um número: \"))\n",
        "num2=int(input(\"Informe outro número: \"))\n",
        "soma=num1+num2\n",
        "if soma>10:\n",
        "  print(f\"O quadrado da adição dos dois números é: {soma*soma}\")\n",
        "else:\n",
        "  print(f\"O quadrado do resultado é: {soma/2}\")"
      ],
      "metadata": {
        "colab": {
          "base_uri": "https://localhost:8080/"
        },
        "id": "UvUFAFeBSYn9",
        "outputId": "c18756c9-8dce-41e2-e058-1825c1a6d5b8"
      },
      "execution_count": null,
      "outputs": [
        {
          "output_type": "stream",
          "name": "stdout",
          "text": [
            "Informe um número: 2\n",
            "Informe outro número: 9\n",
            "O quadrado da adição dos dois números é: 121\n"
          ]
        }
      ]
    },
    {
      "cell_type": "code",
      "source": [
        "'''10. O sistema de avaliação de determinada disciplina é composto por três provas. A primeira\n",
        "prova tem peso 2, a segunda tem peso 3 e a terceira tem peso 5. Considerando que a\n",
        "média para aprovação é 6.0, faça um algoritmo para calcular a média final de um aluno\n",
        "desta disciplina e dizer se o aluno foi aprovado ou não'''\n",
        "nota1=float(input(\"Informe a primeira nota: \"))\n",
        "nota2=float(input(\"Informe a segunda nota: \"))\n",
        "nota3=float(input(\"Informe a terceira nota: \"))\n",
        "\n",
        "media=((nota1*2)+(nota2*3)+(nota3*5))/(2+3+5)\n",
        "\n",
        "if media>=6:\n",
        "  print(f\"O aluno(a) foi APROVADO(A) com média: {media:0.2f}\")\n",
        "else:\n",
        "  print(f\"O aluno(a) foi REPROVADO(A) com média: {media:0.2f}\")"
      ],
      "metadata": {
        "colab": {
          "base_uri": "https://localhost:8080/"
        },
        "id": "zZJHRUcXS8xy",
        "outputId": "a8b75d46-3bcb-4c31-bb50-189de4db157d"
      },
      "execution_count": null,
      "outputs": [
        {
          "output_type": "stream",
          "name": "stdout",
          "text": [
            "Informe a primeira nota: 8\n",
            "Informe a segunda nota: 9\n",
            "Informe a terceira nota: 10\n",
            "O aluno(a) foi APROVADO(A) com média: 9.30\n"
          ]
        }
      ]
    },
    {
      "cell_type": "code",
      "source": [
        "'''11. Elabore um algoritmo que leia o nome e o peso de duas pessoas e imprima o nome da\n",
        "pessoa mais pesada'''\n",
        "nome1=(input(\"Informe o nome da primeira pessoa: \"))\n",
        "peso1=float(input(\"Informe o peso da primeira pessoa: \"))\n",
        "nome2=(input(\"Informe o nome da segunda pessoa: \"))\n",
        "peso2=float(input(\"Informe o peso da segunda pessoa: \"))\n",
        "\n",
        "if peso1>peso2:\n",
        "  print(f\"A pessoa mais pesada é {nome1}\")\n",
        "elif peso2>peso1:\n",
        "  print(f\"A pessoa mais pesada é {nome2}\")\n",
        "else:\n",
        "  print(\"As pessoas tem o mesmo peso.\")"
      ],
      "metadata": {
        "colab": {
          "base_uri": "https://localhost:8080/"
        },
        "id": "E6lYcudAUJe_",
        "outputId": "004a00d3-ab48-4202-debc-332704578db3"
      },
      "execution_count": null,
      "outputs": [
        {
          "output_type": "stream",
          "name": "stdout",
          "text": [
            "Informe o nome da primeira pessoa: Maria\n",
            "Informe o peso da primeira pessoa: 54.55\n",
            "Informe o nome da segunda pessoa: Ana\n",
            "Informe o peso da segunda pessoa: 54.55\n",
            "As pessoas tem o mesmo peso.\n"
          ]
        }
      ]
    },
    {
      "cell_type": "code",
      "source": [
        "'''12. Elabore um algoritmo que indique se um número digitado está compreendido entre 20 e\n",
        "90, ou não'''\n",
        "num=float(input(\"Informe um número: \"))\n",
        "\n",
        "if num>20 and num<90:\n",
        "  print(f\"O número {num:0.1f} está entre 20 e 90\")\n",
        "else:\n",
        "  print(f\"O número {num:0.1f} não está entre 20 e 90\")\n"
      ],
      "metadata": {
        "colab": {
          "base_uri": "https://localhost:8080/"
        },
        "id": "dE426v0NZCVn",
        "outputId": "dc163f4e-54f5-4bd8-9513-752009b5f271"
      },
      "execution_count": null,
      "outputs": [
        {
          "output_type": "stream",
          "name": "stdout",
          "text": [
            "Informe um número: 21\n",
            "O número 21.0 está entre 20 e 90\n"
          ]
        }
      ]
    },
    {
      "cell_type": "code",
      "source": [
        "'''13. Elabore um algoritmo que leia dois números e imprima qual é maior, qual é menor, ou se\n",
        "são iguais'''\n",
        "num1=float(input(\"informe um número: \"))\n",
        "num2=float(input(\"informe outro número: \"))\n",
        "\n",
        "if num1>num2:\n",
        "  print(f\"O número {num1:0.1f} é maior que o número {num2:0.1f}\")\n",
        "elif num2>num1:\n",
        "  print(f\"O número {num2:0.1f} é maior que o número {num1:0.1f}\")\n",
        "elif num1==num2:\n",
        "  print(f\"O número {num1:0.1f} é igual a {num2:0.1f}\")"
      ],
      "metadata": {
        "colab": {
          "base_uri": "https://localhost:8080/"
        },
        "id": "0Yn1dbsGaKkI",
        "outputId": "03442080-2886-4089-b711-3c32b2ed7940"
      },
      "execution_count": null,
      "outputs": [
        {
          "output_type": "stream",
          "name": "stdout",
          "text": [
            "informe um número: 10\n",
            "informe outro número: 10\n",
            "O número 10.0 é igual a 10.0\n"
          ]
        }
      ]
    },
    {
      "cell_type": "code",
      "source": [
        "'''14. Escreva um programa em linguagem C que solicite ao usuário a média para aprovação\n",
        "em um curso e em seguida solicite ao usuário o nome, sexo e as 03 notas do aluno e ao\n",
        "final imprima a frase: \"O aluno XXXXX foi aprovado com media YY\" considerando o gênero\n",
        "do(a) aluno(a) e se foi aprovado(a) ou reprovado(a)'''\n",
        "mediaAprov=float(input(\"Informe a média para aprovação: \"))\n",
        "nome=str(input(\"Informe o seu nome: \"))\n",
        "sexo=str(input(\"Informe seu sexo: \"))\n",
        "nota1=float(input(\"Informe a primeira nota: \"))\n",
        "nota2=float(input(\"Informe a segunda nota: \"))\n",
        "nota3=float(input(\"Informe a terceira nota: \"))\n",
        "\n",
        "sexoM=[\"MASCULINO\",\"HOMEM\",\"M\"]\n",
        "sexoF=[\"FEMININO\",\"MULHER\",\"F\"]\n",
        "\n",
        "media=(nota1+nota2+nota3)/3\n",
        "\n",
        "if sexo.upper() in sexoM and media>=mediaAprov:\n",
        "    print(f\"O aluno {nome} foi APROVADO com média {media:0.1f}\")\n",
        "elif sexo.upper() in sexoM and media<mediaAprov:\n",
        "    print(f\"O aluno {nome} foi REPROVADO com média {media:0.1f}\")\n",
        "elif sexo.upper() in sexoF and media>=mediaAprov:\n",
        "    print(f\"A aluna {nome} foi APROVADA com média {media:0.1f}\")\n",
        "elif sexo.upper() in sexoF and media<mediaAprov:\n",
        "    print(f\"A aluna {nome} foi REPROVADA com média {media:0.1f}\")\n",
        "else:\n",
        "  print(\"Dados inválidos\")\n"
      ],
      "metadata": {
        "colab": {
          "base_uri": "https://localhost:8080/"
        },
        "id": "UVQHVPx5bire",
        "outputId": "cba27304-e118-4398-acc4-5c219e0b4dbe"
      },
      "execution_count": null,
      "outputs": [
        {
          "output_type": "stream",
          "name": "stdout",
          "text": [
            "Informe a média para aprovação: 6\n",
            "Informe o seu nome: Maria\n",
            "Informe seu sexo: f\n",
            "Informe a primeira nota: 10\n",
            "Informe a segunda nota: 8\n",
            "Informe a terceira nota: 5\n",
            "A aluna Maria foi APROVADA com média 7.7\n"
          ]
        }
      ]
    }
  ]
}